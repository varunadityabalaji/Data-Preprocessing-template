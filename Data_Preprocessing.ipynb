{
 "cells": [
  {
   "cell_type": "code",
   "execution_count": 60,
   "metadata": {},
   "outputs": [],
   "source": [
    "import numpy as np\n",
    "import pandas as pd\n",
    "import matplotlib.pyplot as plt \n",
    "from sklearn.impute import SimpleImputer\n",
    "from sklearn.compose import ColumnTransformer\n",
    "from sklearn.preprocessing import OneHotEncoder"
   ]
  },
  {
   "cell_type": "code",
   "execution_count": 61,
   "metadata": {},
   "outputs": [],
   "source": [
    "dataset = pd.read_csv('Data.csv')\n",
    "x = dataset.iloc[: , :-1].values\n",
    "y = dataset.iloc[:, -1].values"
   ]
  },
  {
   "cell_type": "code",
   "execution_count": 62,
   "metadata": {},
   "outputs": [],
   "source": [
    "#fill in missing data\n",
    "imputer = SimpleImputer(missing_values = np.nan, strategy ='mean')\n",
    "imputer.fit(x[:,1:3])\n",
    "x[:,1:3] =  imputer.transform(x[:,1:3])"
   ]
  },
  {
   "cell_type": "code",
   "execution_count": 63,
   "metadata": {},
   "outputs": [],
   "source": [
    "#use coloumn transformer to make a class to apply one hot encoder on. The first few paramters are what to do, type of \n",
    "#endoing and the coloumn to be applied on. then use fit to fir the array and convert to numpy as Mlrequires us to do so\n",
    "#makes 3 coloumns ith 1 or 0 in each coloumn\n",
    "ct = ColumnTransformer(transformers = [('encoder',OneHotEncoder(),[0])] ,remainder = 'passthrough')\n",
    "x = np.array(ct.fit_transform(x))"
   ]
  },
  {
   "cell_type": "code",
   "execution_count": 64,
   "metadata": {},
   "outputs": [],
   "source": [
    "from sklearn.preprocessing import LabelEncoder"
   ]
  },
  {
   "cell_type": "code",
   "execution_count": 65,
   "metadata": {},
   "outputs": [],
   "source": [
    "# when u have only 2 types of data then use labelencoder. just straight use fit_transform and give the data to transform  \n",
    "le = LabelEncoder()\n",
    "y = le.fit_transform(y)"
   ]
  },
  {
   "cell_type": "code",
   "execution_count": 68,
   "metadata": {},
   "outputs": [],
   "source": [
    "#splitting the dataset into training and test data set\n",
    "#We have to apply feature scaling after splitting\n",
    "#this is beacuse you will get the std and mean of test data along with training data(info leakage). this is feature scaling\n",
    "#do it after split.\n",
    "#get 4 sets x_train,y_train,x_test,y_test\n",
    "#random split gives same train test split. like seed, test_size splits data in propotion 0.2 best size.\n",
    "from sklearn.model_selection import train_test_split\n",
    "x_train,x_test,y_train,y_test = train_test_split(x,y,test_size = 0.2,random_state = 1)"
   ]
  },
  {
   "cell_type": "code",
   "execution_count": 73,
   "metadata": {},
   "outputs": [],
   "source": [
    "#Feature Scaling - all on same scales\n",
    "#avoid some features to dominate. They are not considered by feature learning model\n",
    "#standardisation is performed to ensure that the coefficients are not affected due to big values.\n",
    "#normal recommended when popualtionn is distributed. go for standardisation\n",
    "#in order to make predictions congruent apply same scalar\n",
    "from sklearn.preprocessing import StandardScaler\n",
    "sc = StandardScaler()\n",
    "x_train[:,0:3:] = sc.fit_transform(x_train[:,0:3:]) #3rd cololumn till end\n",
    "x_test[:,0:3:] = sc.fit_transform(x_test[:,0:3:]) "
   ]
  },
  {
   "cell_type": "code",
   "execution_count": null,
   "metadata": {},
   "outputs": [],
   "source": []
  }
 ],
 "metadata": {
  "kernelspec": {
   "display_name": "Python 3",
   "language": "python",
   "name": "python3"
  },
  "language_info": {
   "codemirror_mode": {
    "name": "ipython",
    "version": 3
   },
   "file_extension": ".py",
   "mimetype": "text/x-python",
   "name": "python",
   "nbconvert_exporter": "python",
   "pygments_lexer": "ipython3",
   "version": "3.7.3"
  }
 },
 "nbformat": 4,
 "nbformat_minor": 2
}
